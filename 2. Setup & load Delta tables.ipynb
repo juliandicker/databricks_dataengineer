{
 "cells": [
  {
   "cell_type": "code",
   "execution_count": 0,
   "metadata": {
    "application/vnd.databricks.v1+cell": {
     "cellMetadata": {
      "byteLimit": 2048000,
      "rowLimit": 10000
     },
     "inputWidgets": {},
     "nuid": "cc3cf905-a75f-4359-84be-b3ecb4bc1f21",
     "showTitle": false,
     "tableResultSettingsMap": {},
     "title": ""
    }
   },
   "outputs": [],
   "source": [
    "CREATE CATALOG IF NOT EXISTS usertraining;\n",
    "CREATE SCHEMA IF NOT EXISTS usertraining.wikipedia;\n",
    "USE usertraining.wikipedia;"
   ]
  },
  {
   "cell_type": "code",
   "execution_count": 0,
   "metadata": {
    "application/vnd.databricks.v1+cell": {
     "cellMetadata": {
      "byteLimit": 2048000,
      "rowLimit": 10000
     },
     "inputWidgets": {},
     "nuid": "d8af7c2b-e3c2-4a5a-bf29-b622b26858af",
     "showTitle": false,
     "tableResultSettingsMap": {},
     "title": ""
    }
   },
   "outputs": [],
   "source": [
    "SELECT * FROM PARQUET.`dbfs:/databricks-datasets/wikipedia-datasets/data-001/en_wikipedia/articles-only-parquet`"
   ]
  },
  {
   "cell_type": "code",
   "execution_count": 0,
   "metadata": {
    "application/vnd.databricks.v1+cell": {
     "cellMetadata": {
      "byteLimit": 2048000,
      "rowLimit": 10000
     },
     "inputWidgets": {},
     "nuid": "4e08b727-ece7-4ba7-bc2a-f4dc27877b79",
     "showTitle": false,
     "tableResultSettingsMap": {},
     "title": ""
    }
   },
   "outputs": [],
   "source": [
    "CREATE OR REPLACE TABLE articles_bronze\n",
    "USING DELTA -- optional\n",
    "AS\n",
    "SELECT * FROM PARQUET.`dbfs:/databricks-datasets/wikipedia-datasets/data-001/en_wikipedia/articles-only-parquet`;\n",
    "\n",
    "SELECT * FROM articles_bronze"
   ]
  },
  {
   "cell_type": "code",
   "execution_count": 0,
   "metadata": {
    "application/vnd.databricks.v1+cell": {
     "cellMetadata": {
      "byteLimit": 2048000,
      "rowLimit": 10000
     },
     "inputWidgets": {},
     "nuid": "8a0020b6-ff22-432f-a6d9-637c5a350e00",
     "showTitle": false,
     "tableResultSettingsMap": {},
     "title": ""
    }
   },
   "outputs": [],
   "source": [
    "DESCRIBE articles_bronze"
   ]
  },
  {
   "cell_type": "code",
   "execution_count": 0,
   "metadata": {
    "application/vnd.databricks.v1+cell": {
     "cellMetadata": {
      "byteLimit": 2048000,
      "rowLimit": 10000
     },
     "inputWidgets": {},
     "nuid": "6f58f9f8-a9cd-448a-9e55-b0b519f7c999",
     "showTitle": false,
     "tableResultSettingsMap": {},
     "title": ""
    }
   },
   "outputs": [],
   "source": [
    "CREATE SCHEMA IF NOT EXISTS usertraining.flights;\n",
    "USE usertraining.flights;"
   ]
  },
  {
   "cell_type": "code",
   "execution_count": 0,
   "metadata": {
    "application/vnd.databricks.v1+cell": {
     "cellMetadata": {
      "byteLimit": 2048000,
      "rowLimit": 10000
     },
     "inputWidgets": {},
     "nuid": "1ad827be-06fc-45c1-ad91-7502632555c4",
     "showTitle": false,
     "tableResultSettingsMap": {},
     "title": ""
    }
   },
   "outputs": [],
   "source": [
    "create or replace temp view departuredelays as\n",
    "  select * from csv.`dbfs:/databricks-datasets/flights/departuredelays.csv`;\n",
    "\n",
    "select * from departuredelays"
   ]
  },
  {
   "cell_type": "code",
   "execution_count": 0,
   "metadata": {
    "application/vnd.databricks.v1+cell": {
     "cellMetadata": {
      "byteLimit": 2048000,
      "rowLimit": 10000
     },
     "inputWidgets": {},
     "nuid": "7a23bee8-91fb-4fb2-a0f9-b25700d3f9ce",
     "showTitle": false,
     "tableResultSettingsMap": {},
     "title": ""
    }
   },
   "outputs": [],
   "source": [
    "DROP TABLE IF EXISTS departuredelays_bronze;\n",
    "\n",
    "CREATE TABLE departuredelays_bronze\n",
    "USING DELTA -- optional\n",
    "AS\n",
    "  SELECT *\n",
    "  FROM read_files(\"dbfs:/databricks-datasets/flights/departuredelays.csv\",\n",
    "    format => \"csv\",\n",
    "    sep => \",\",\n",
    "    header => true,\n",
    "    mode => \"FAILFAST\");\n",
    "\n",
    "SELECT * FROM departuredelays_bronze"
   ]
  },
  {
   "cell_type": "code",
   "execution_count": 0,
   "metadata": {
    "application/vnd.databricks.v1+cell": {
     "cellMetadata": {
      "byteLimit": 2048000,
      "rowLimit": 10000
     },
     "inputWidgets": {},
     "nuid": "13940a1f-ee28-43cb-85b7-23d5089e4c72",
     "showTitle": false,
     "tableResultSettingsMap": {},
     "title": ""
    }
   },
   "outputs": [],
   "source": [
    "describe extended departuredelays_bronze"
   ]
  },
  {
   "cell_type": "code",
   "execution_count": 0,
   "metadata": {
    "application/vnd.databricks.v1+cell": {
     "cellMetadata": {
      "byteLimit": 2048000,
      "rowLimit": 10000
     },
     "inputWidgets": {},
     "nuid": "ac6a5580-c7cb-4420-85a2-e3edcdb41793",
     "showTitle": false,
     "tableResultSettingsMap": {},
     "title": ""
    }
   },
   "outputs": [],
   "source": [
    "describe catalog usertraining"
   ]
  },
  {
   "cell_type": "code",
   "execution_count": 0,
   "metadata": {
    "application/vnd.databricks.v1+cell": {
     "cellMetadata": {
      "byteLimit": 2048000,
      "rowLimit": 10000
     },
     "inputWidgets": {},
     "nuid": "e04fac3c-7db8-441e-9b0d-8c49dcd4fc91",
     "showTitle": false,
     "tableResultSettingsMap": {},
     "title": ""
    }
   },
   "outputs": [],
   "source": [
    "describe schema usertraining.flights"
   ]
  },
  {
   "cell_type": "code",
   "execution_count": 0,
   "metadata": {
    "application/vnd.databricks.v1+cell": {
     "cellMetadata": {
      "byteLimit": 2048000,
      "rowLimit": 10000
     },
     "inputWidgets": {},
     "nuid": "963e2512-f3b7-4809-8133-2bede4dbc913",
     "showTitle": false,
     "tableResultSettingsMap": {},
     "title": ""
    }
   },
   "outputs": [],
   "source": [
    "drop table if exists airportcodes_bronze;\n",
    "create table airportcodes_bronze using delta;"
   ]
  },
  {
   "cell_type": "code",
   "execution_count": 0,
   "metadata": {
    "application/vnd.databricks.v1+cell": {
     "cellMetadata": {
      "byteLimit": 2048000,
      "rowLimit": 10000
     },
     "inputWidgets": {},
     "nuid": "369583b2-801c-4bb0-a32f-5f8d7894ef72",
     "showTitle": false,
     "tableResultSettingsMap": {},
     "title": ""
    }
   },
   "outputs": [],
   "source": [
    "copy into airportcodes_bronze\n",
    "  FROM \"dbfs:/databricks-datasets/flights/airport-codes-na.txt\"\n",
    "  FILEFORMAT = csv\n",
    "  FORMAT_OPTIONS (\"header\" = \"true\", \"delimiter\" = \"\\t\")\n",
    "  COPY_OPTIONS (\"mergeSchema\" = \"true\");"
   ]
  },
  {
   "cell_type": "code",
   "execution_count": 0,
   "metadata": {
    "application/vnd.databricks.v1+cell": {
     "cellMetadata": {
      "byteLimit": 2048000,
      "rowLimit": 10000
     },
     "inputWidgets": {},
     "nuid": "38ca3ed1-4ade-4db6-980c-a9e541783574",
     "showTitle": false,
     "tableResultSettingsMap": {},
     "title": ""
    }
   },
   "outputs": [],
   "source": [
    "select * from airportcodes_bronze"
   ]
  },
  {
   "cell_type": "markdown",
   "metadata": {
    "application/vnd.databricks.v1+cell": {
     "cellMetadata": {
      "byteLimit": 2048000,
      "rowLimit": 10000
     },
     "inputWidgets": {},
     "nuid": "6529089c-546d-4010-8a85-89d9921fb5ce",
     "showTitle": false,
     "tableResultSettingsMap": {},
     "title": ""
    }
   },
   "source": [
    "#EXTERNAL LOCATIONS"
   ]
  },
  {
   "cell_type": "code",
   "execution_count": 0,
   "metadata": {
    "application/vnd.databricks.v1+cell": {
     "cellMetadata": {
      "byteLimit": 2048000,
      "rowLimit": 10000
     },
     "inputWidgets": {},
     "nuid": "ff6ce77c-f88e-4f25-89ad-a41683ea1337",
     "showTitle": false,
     "tableResultSettingsMap": {},
     "title": ""
    }
   },
   "outputs": [],
   "source": [
    "SHOW STORAGE CREDENTIALS"
   ]
  },
  {
   "cell_type": "code",
   "execution_count": 0,
   "metadata": {
    "application/vnd.databricks.v1+cell": {
     "cellMetadata": {
      "byteLimit": 2048000,
      "rowLimit": 10000
     },
     "inputWidgets": {},
     "nuid": "4166d638-c51f-49b5-adc5-83a328c6cde0",
     "showTitle": false,
     "tableResultSettingsMap": {},
     "title": ""
    }
   },
   "outputs": [],
   "source": [
    "CREATE EXTERNAL LOCATION IF NOT EXISTS usertraining_ext\n",
    "    URL 'abfss://external@adlanedbrmetastore01.dfs.core.windows.net'\n",
    "    WITH (STORAGE CREDENTIAL `b80ec2c9-c62a-46e4-8380-e9d59ead1ed4-storage-credential-1746568360876`) --update from prev cell\n",
    "    COMMENT 'User training external data'"
   ]
  },
  {
   "cell_type": "code",
   "execution_count": 0,
   "metadata": {
    "application/vnd.databricks.v1+cell": {
     "cellMetadata": {
      "byteLimit": 2048000,
      "rowLimit": 10000
     },
     "inputWidgets": {},
     "nuid": "bbef3298-73c1-43b0-ac31-d5ce797dc1a2",
     "showTitle": false,
     "tableResultSettingsMap": {},
     "title": ""
    }
   },
   "outputs": [],
   "source": [
    "SHOW EXTERNAL LOCATIONS"
   ]
  },
  {
   "cell_type": "code",
   "execution_count": 0,
   "metadata": {
    "application/vnd.databricks.v1+cell": {
     "cellMetadata": {
      "byteLimit": 2048000,
      "rowLimit": 10000
     },
     "inputWidgets": {},
     "nuid": "95f79c60-beef-43f9-ba93-87bfb47fc517",
     "showTitle": false,
     "tableResultSettingsMap": {},
     "title": ""
    }
   },
   "outputs": [],
   "source": [
    "SHOW CREATE TABLE airportcodes_bronze"
   ]
  },
  {
   "cell_type": "code",
   "execution_count": 0,
   "metadata": {
    "application/vnd.databricks.v1+cell": {
     "cellMetadata": {
      "byteLimit": 2048000,
      "rowLimit": 10000
     },
     "inputWidgets": {},
     "nuid": "bb45a4b6-9fcd-4a16-bc8b-e98c79a19bb8",
     "showTitle": false,
     "tableResultSettingsMap": {},
     "title": ""
    }
   },
   "outputs": [],
   "source": [
    "drop table if exists airportcodes_ext_bronze;\n",
    "\n",
    "CREATE TABLE airportcodes_ext_bronze (\n",
    "  City STRING,\n",
    "  State STRING,\n",
    "  Country STRING,\n",
    "  IATA STRING)\n",
    "USING csv\n",
    "OPTIONS (\"header\" = \"true\", \"delimiter\" = \"\\t\")\n",
    "LOCATION 'abfss://external@adlanedbrmetastore01.dfs.core.windows.net/airportcodes';\n",
    "\n",
    "insert into airportcodes_ext_bronze\n",
    "  select * from airportcodes_bronze;\n",
    "\n",
    "select * from airportcodes_ext_bronze;"
   ]
  },
  {
   "cell_type": "markdown",
   "metadata": {
    "application/vnd.databricks.v1+cell": {
     "cellMetadata": {
      "byteLimit": 2048000,
      "rowLimit": 10000
     },
     "inputWidgets": {},
     "nuid": "23876485-f49d-4922-b24c-f1be37a8f410",
     "showTitle": false,
     "tableResultSettingsMap": {},
     "title": ""
    }
   },
   "source": [
    "#Built In Functions"
   ]
  },
  {
   "cell_type": "code",
   "execution_count": 0,
   "metadata": {
    "application/vnd.databricks.v1+cell": {
     "cellMetadata": {
      "byteLimit": 2048000,
      "rowLimit": 10000
     },
     "inputWidgets": {},
     "nuid": "4173e36a-5c02-4051-8acd-5a428107f393",
     "showTitle": false,
     "tableResultSettingsMap": {},
     "title": ""
    }
   },
   "outputs": [],
   "source": [
    "DROP TABLE IF EXISTS departuredelays2_bronze;\n",
    "\n",
    "CREATE TABLE departuredelays2_bronze;\n",
    "\n",
    "COPY INTO departuredelays2_bronze FROM\n",
    "  (SELECT *,\n",
    "  CAST(CAST(CAST(date AS INT) AS TIMESTAMP) AS DATE) as date2,\n",
    "  current_timestamp() AS updated,\n",
    "  input_file_name() AS source_file\n",
    "  FROM \"dbfs:/databricks-datasets/flights/departuredelays.csv\")\n",
    "  FILEFORMAT = csv\n",
    "  FORMAT_OPTIONS (\"header\" = \"true\", \"delimiter\" = \",\")\n",
    "  COPY_OPTIONS (\"mergeSchema\" = \"true\");\n",
    "\n",
    "SELECT * FROM departuredelays2_bronze"
   ]
  }
 ],
 "metadata": {
  "application/vnd.databricks.v1+notebook": {
   "computePreferences": null,
   "dashboards": [],
   "environmentMetadata": {
    "base_environment": "",
    "environment_version": "2"
   },
   "inputWidgetPreferences": null,
   "language": "sql",
   "notebookMetadata": {
    "pythonIndentUnit": 4
   },
   "notebookName": "2. Setup & load Delta tables",
   "widgets": {}
  },
  "language_info": {
   "name": "sql"
  }
 },
 "nbformat": 4,
 "nbformat_minor": 0
}
