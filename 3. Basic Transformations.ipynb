{
 "cells": [
  {
   "cell_type": "markdown",
   "metadata": {
    "application/vnd.databricks.v1+cell": {
     "cellMetadata": {},
     "inputWidgets": {},
     "nuid": "0c1ce309-d0a4-4043-b83f-154f085dbdd1",
     "showTitle": false,
     "tableResultSettingsMap": {},
     "title": ""
    }
   },
   "source": [
    "#Cloning"
   ]
  },
  {
   "cell_type": "code",
   "execution_count": 0,
   "metadata": {
    "application/vnd.databricks.v1+cell": {
     "cellMetadata": {
      "byteLimit": 2048000,
      "rowLimit": 10000
     },
     "inputWidgets": {},
     "nuid": "a407a063-0272-4f9c-afef-221c50cca0cd",
     "showTitle": false,
     "tableResultSettingsMap": {},
     "title": ""
    }
   },
   "outputs": [],
   "source": [
    "USE usertraining.flights;\n",
    "\n",
    "CREATE OR REPLACE TABLE airport_codes_clone_bronze\n",
    "DEEP CLONE airportcodes_bronze;  --SHALLOW\n"
   ]
  },
  {
   "cell_type": "markdown",
   "metadata": {
    "application/vnd.databricks.v1+cell": {
     "cellMetadata": {},
     "inputWidgets": {},
     "nuid": "6eaf5646-8a69-4b41-b35d-31c0e33cf98e",
     "showTitle": false,
     "tableResultSettingsMap": {},
     "title": ""
    }
   },
   "source": [
    "#Complete overwrite"
   ]
  },
  {
   "cell_type": "code",
   "execution_count": 0,
   "metadata": {
    "application/vnd.databricks.v1+cell": {
     "cellMetadata": {
      "byteLimit": 2048000,
      "rowLimit": 10000
     },
     "inputWidgets": {},
     "nuid": "b099d036-a940-4a02-ae1b-7ef3b3509c79",
     "showTitle": false,
     "tableResultSettingsMap": {},
     "title": ""
    }
   },
   "outputs": [],
   "source": [
    "CREATE OR REPLACE TABLE departuredelays_bronze AS\n",
    "  SELECT * FROM read_files(\"dbfs:/databricks-datasets/flights/departuredelays.csv\",\n",
    "    format => \"csv\",\n",
    "    sep => \",\",\n",
    "    header => true,\n",
    "    mode => \"FAILFAST\");\n",
    "\n",
    "DESCRIBE HISTORY departuredelays_bronze;"
   ]
  },
  {
   "cell_type": "code",
   "execution_count": 0,
   "metadata": {
    "application/vnd.databricks.v1+cell": {
     "cellMetadata": {
      "byteLimit": 2048000,
      "rowLimit": 10000
     },
     "inputWidgets": {},
     "nuid": "cd57b399-a2f8-419d-bac9-d1ba0543949f",
     "showTitle": false,
     "tableResultSettingsMap": {},
     "title": ""
    }
   },
   "outputs": [],
   "source": [
    "INSERT OVERWRITE departuredelays_bronze  --note this wont support scheme evolution unlike CRAS\n",
    "  SELECT * FROM read_files(\"dbfs:/databricks-datasets/flights/departuredelays.csv\",\n",
    "      format => \"csv\",\n",
    "      sep => \",\",\n",
    "      header => true,\n",
    "      mode => \"FAILFAST\");\n",
    "\n",
    "  DESCRIBE HISTORY departuredelays_bronze;"
   ]
  },
  {
   "cell_type": "markdown",
   "metadata": {
    "application/vnd.databricks.v1+cell": {
     "cellMetadata": {},
     "inputWidgets": {},
     "nuid": "6e3ae134-4e13-41f4-a10b-28939dcc2c98",
     "showTitle": false,
     "tableResultSettingsMap": {},
     "title": ""
    }
   },
   "source": [
    "#Merge updates - Upserts"
   ]
  },
  {
   "cell_type": "code",
   "execution_count": 0,
   "metadata": {
    "application/vnd.databricks.v1+cell": {
     "cellMetadata": {
      "byteLimit": 2048000,
      "rowLimit": 10000
     },
     "inputWidgets": {},
     "nuid": "e1add31a-490a-4013-b844-b50f37c8189e",
     "showTitle": false,
     "tableResultSettingsMap": {},
     "title": ""
    }
   },
   "outputs": [],
   "source": [
    "create schema if not exists tpch;\n",
    "use tpch;\n",
    "\n",
    "CREATE OR REPLACE TABLE customer_bronze AS\n",
    "   SELECT *, current_timestamp() as updated\n",
    "   FROM DELTA.`dbfs:/databricks-datasets/tpch/delta-001/customer/`;\n",
    "\n",
    "select * from customer_bronze;"
   ]
  },
  {
   "cell_type": "code",
   "execution_count": 0,
   "metadata": {
    "application/vnd.databricks.v1+cell": {
     "cellMetadata": {
      "byteLimit": 2048000,
      "rowLimit": 10000
     },
     "inputWidgets": {},
     "nuid": "f6ad32f9-261a-417e-b331-4a2c40ee7a16",
     "showTitle": false,
     "tableResultSettingsMap": {},
     "title": ""
    }
   },
   "outputs": [],
   "source": [
    "CREATE OR REPLACE TEMP VIEW customer_updates_view10u AS\n",
    "   SELECT\n",
    "      c_custkey,\n",
    "      c_name,\n",
    "      CONCAT('Address_', CAST(RAND() * 1000000 AS INT)) AS c_address,\n",
    "      c_nationkey,\n",
    "      c_phone,\n",
    "      c_acctbal,\n",
    "      c_mktsegment,\n",
    "      c_comment,\n",
    "      current_timestamp() as updated\n",
    "   FROM customer_bronze\n",
    "   ORDER BY RAND()\n",
    "   LIMIT 10;\n",
    "\n",
    "CREATE OR REPLACE TEMP VIEW customer_updates_view20i AS\n",
    "   SELECT\n",
    "      CAST(RAND() * 1000000 AS INT) AS c_custkey,\n",
    "      c_name,\n",
    "      CONCAT('Address_', CAST(RAND() * 1000000 AS INT)) AS c_address,\n",
    "      c_nationkey,\n",
    "      c_phone,\n",
    "      c_acctbal,\n",
    "      c_mktsegment,\n",
    "      c_comment,\n",
    "      current_timestamp() as updated\n",
    "   FROM customer_bronze\n",
    "   ORDER BY RAND()\n",
    "   LIMIT 20;\n",
    "\n",
    "CREATE OR REPLACE TEMP VIEW customer_updates_view AS\n",
    "   SELECT * FROM customer_updates_view10u\n",
    "   UNION\n",
    "   SELECT * FROM customer_updates_view20i;\n",
    "\n",
    "\n",
    "select * from customer_updates_view"
   ]
  },
  {
   "cell_type": "code",
   "execution_count": 0,
   "metadata": {
    "application/vnd.databricks.v1+cell": {
     "cellMetadata": {
      "byteLimit": 2048000,
      "rowLimit": 10000
     },
     "inputWidgets": {},
     "nuid": "61dddb93-473d-4e86-a8ae-bf72f91c9d35",
     "showTitle": false,
     "tableResultSettingsMap": {},
     "title": ""
    }
   },
   "outputs": [],
   "source": [
    "MERGE INTO customer_bronze a\n",
    "USING customer_updates_view b\n",
    "ON a.c_custkey = b.c_custkey\n",
    "WHEN MATCHED THEN\n",
    "  UPDATE SET c_address = b.c_address, updated = b.updated\n",
    "WHEN NOT MATCHED THEN\n",
    "  INSERT *"
   ]
  },
  {
   "cell_type": "markdown",
   "metadata": {
    "application/vnd.databricks.v1+cell": {
     "cellMetadata": {},
     "inputWidgets": {},
     "nuid": "43333526-6d34-4a7d-bdbe-366fe80cb36a",
     "showTitle": false,
     "tableResultSettingsMap": {},
     "title": ""
    }
   },
   "source": [
    "#Insert only merge for deduplication"
   ]
  },
  {
   "cell_type": "code",
   "execution_count": 0,
   "metadata": {
    "application/vnd.databricks.v1+cell": {
     "cellMetadata": {
      "byteLimit": 2048000,
      "rowLimit": 10000
     },
     "inputWidgets": {},
     "nuid": "aab9ddc7-8ed0-41e3-b0e2-82a0af27bd09",
     "showTitle": false,
     "tableResultSettingsMap": {},
     "title": ""
    }
   },
   "outputs": [],
   "source": [
    "MERGE INTO customer_bronze a\n",
    "USING customer_updates_view b\n",
    "ON a.c_custkey = b.c_custkey\n",
    "WHEN NOT MATCHED AND b.c_mktsegment = 'HOUSEHOLD' THEN\n",
    "  INSERT *"
   ]
  },
  {
   "cell_type": "markdown",
   "metadata": {
    "application/vnd.databricks.v1+cell": {
     "cellMetadata": {},
     "inputWidgets": {},
     "nuid": "14bb97eb-cb6c-4b63-ae13-f4334f490972",
     "showTitle": false,
     "tableResultSettingsMap": {},
     "title": ""
    }
   },
   "source": [
    "#Filter & rename columns"
   ]
  },
  {
   "cell_type": "code",
   "execution_count": 0,
   "metadata": {
    "application/vnd.databricks.v1+cell": {
     "cellMetadata": {
      "byteLimit": 2048000,
      "rowLimit": 10000
     },
     "inputWidgets": {},
     "nuid": "99a37abb-d9cc-4479-8854-28198aa540d8",
     "showTitle": false,
     "tableResultSettingsMap": {},
     "title": ""
    }
   },
   "outputs": [],
   "source": [
    "CREATE OR REPLACE TABLE customer_narrow AS\n",
    "   SELECT\n",
    "      c_custkey as id,\n",
    "      c_name as name,\n",
    "      c_address as address\n",
    "   FROM customer_bronze;\n",
    "\n",
    "SELECT * FROM customer_narrow;"
   ]
  },
  {
   "cell_type": "markdown",
   "metadata": {
    "application/vnd.databricks.v1+cell": {
     "cellMetadata": {},
     "inputWidgets": {},
     "nuid": "f820ee09-3bbf-4d05-a9c6-104b3b5963d5",
     "showTitle": false,
     "tableResultSettingsMap": {},
     "title": ""
    }
   },
   "source": [
    "#Declare schema & generated columns"
   ]
  },
  {
   "cell_type": "code",
   "execution_count": 0,
   "metadata": {
    "application/vnd.databricks.v1+cell": {
     "cellMetadata": {
      "byteLimit": 2048000,
      "rowLimit": 10000
     },
     "inputWidgets": {},
     "nuid": "1aaaf5b6-8c41-4bf9-ae9f-1c85d7112f7f",
     "showTitle": false,
     "tableResultSettingsMap": {},
     "title": ""
    }
   },
   "outputs": [],
   "source": [
    "CREATE OR REPLACE TABLE customer_enhanced_bronze (\n",
    "      c_custkey BIGINT,\n",
    "      c_name STRING,\n",
    "      c_address STRING,\n",
    "      c_nationkey BIGINT,\n",
    "      c_phone STRING,\n",
    "      c_acctbal DECIMAL(18,2),\n",
    "      c_mktsegment STRING,\n",
    "      c_comment STRING,\n",
    "      updated TIMESTAMP,\n",
    "      date DATE GENERATED ALWAYS AS (\n",
    "        cast(updated AS DATE))\n",
    "        COMMENT 'generated based on updated'\n",
    "      );"
   ]
  },
  {
   "cell_type": "code",
   "execution_count": 0,
   "metadata": {
    "application/vnd.databricks.v1+cell": {
     "cellMetadata": {
      "byteLimit": 2048000,
      "rowLimit": 10000
     },
     "inputWidgets": {},
     "nuid": "3bf3f592-3174-40d9-949a-6d68a18d47fd",
     "showTitle": false,
     "tableResultSettingsMap": {},
     "title": ""
    }
   },
   "outputs": [],
   "source": [
    "-- SET spark.databricks.delta.schema.autoMerge.enabled=true;\n",
    "\n",
    "MERGE INTO customer_enhanced_bronze a\n",
    "USING customer_bronze b\n",
    "ON a.c_custkey = b.c_custkey\n",
    "WHEN NOT MATCHED THEN\n",
    "  INSERT (c_custkey, c_name, c_address, c_nationkey, c_phone, c_acctbal, c_mktsegment, c_comment, updated)\n",
    "  VALUES (b.c_custkey, b.c_name, b.c_address, b.c_nationkey, b.c_phone, b.c_acctbal, b.c_mktsegment, b.c_comment, b.updated);\n",
    "  -- INSERT *;\n",
    "\n",
    "SELECT * FROM customer_enhanced_bronze;"
   ]
  },
  {
   "cell_type": "markdown",
   "metadata": {
    "application/vnd.databricks.v1+cell": {
     "cellMetadata": {},
     "inputWidgets": {},
     "nuid": "0ee9e6e2-4532-4ec1-86a4-294eb8bdfad2",
     "showTitle": false,
     "tableResultSettingsMap": {},
     "title": ""
    }
   },
   "source": [
    "#Table constraint"
   ]
  },
  {
   "cell_type": "code",
   "execution_count": 0,
   "metadata": {
    "application/vnd.databricks.v1+cell": {
     "cellMetadata": {
      "byteLimit": 2048000,
      "rowLimit": 10000
     },
     "inputWidgets": {},
     "nuid": "2f5a8a4a-7a32-4638-866d-caef66e8e971",
     "showTitle": false,
     "tableResultSettingsMap": {},
     "title": ""
    }
   },
   "outputs": [],
   "source": [
    "ALTER TABLE customer_enhanced_bronze ADD CONSTRAINT valide_date CHECK (date > '2025-01-01')"
   ]
  },
  {
   "cell_type": "code",
   "execution_count": 0,
   "metadata": {
    "application/vnd.databricks.v1+cell": {
     "cellMetadata": {
      "byteLimit": 2048000,
      "rowLimit": 10000
     },
     "inputWidgets": {},
     "nuid": "12d31938-a011-45fc-b039-4ab5de82610b",
     "showTitle": false,
     "tableResultSettingsMap": {},
     "title": ""
    }
   },
   "outputs": [],
   "source": [
    "DESCRIBE EXTENDED customer_enhanced_bronze"
   ]
  }
 ],
 "metadata": {
  "application/vnd.databricks.v1+notebook": {
   "computePreferences": null,
   "dashboards": [],
   "environmentMetadata": {
    "base_environment": "",
    "environment_version": "2"
   },
   "inputWidgetPreferences": null,
   "language": "sql",
   "notebookMetadata": {
    "pythonIndentUnit": 4
   },
   "notebookName": "3. Basic Transformations",
   "widgets": {}
  },
  "language_info": {
   "name": "sql"
  }
 },
 "nbformat": 4,
 "nbformat_minor": 0
}
