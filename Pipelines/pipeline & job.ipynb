{
 "cells": [
  {
   "cell_type": "code",
   "execution_count": 0,
   "metadata": {
    "application/vnd.databricks.v1+cell": {
     "cellMetadata": {},
     "inputWidgets": {},
     "nuid": "15b947d2-7e50-4ebb-a53d-a5333bf34f12",
     "showTitle": false,
     "tableResultSettingsMap": {},
     "title": ""
    }
   },
   "outputs": [],
   "source": [
    "{\n",
    "    \"id\": \"f5b44bdc-0239-4e78-8f3e-317b7376f05a\",\n",
    "    \"pipeline_type\": \"WORKSPACE\",\n",
    "    \"development\": true,\n",
    "    \"continuous\": false,\n",
    "    \"channel\": \"CURRENT\",\n",
    "    \"photon\": true,\n",
    "    \"libraries\": [\n",
    "        {\n",
    "            \"notebook\": {\n",
    "                \"path\": \"/Users/julianadmin@5rqnyj.onmicrosoft.com/databricks_dataengineer/Pipelines/3. customers_bronze\"\n",
    "            }\n",
    "        },\n",
    "        {\n",
    "            \"notebook\": {\n",
    "                \"path\": \"/Users/julianadmin@5rqnyj.onmicrosoft.com/databricks_dataengineer/Pipelines/5. customers_silver\"\n",
    "            }\n",
    "        },\n",
    "        {\n",
    "            \"notebook\": {\n",
    "                \"path\": \"/Users/julianadmin@5rqnyj.onmicrosoft.com/databricks_dataengineer/Pipelines/4. customers_gold\"\n",
    "            }\n",
    "        }\n",
    "    ],\n",
    "    \"name\": \"Customer\",\n",
    "    \"serverless\": true,\n",
    "    \"catalog\": \"usertraining\",\n",
    "    \"configuration\": {\n",
    "        \"default_catalog\": \"usertraining\",\n",
    "        \"default_schema\": \"customers\",\n",
    "        \"admin_schema\": \"admin\",\n",
    "        \"landingzone\": \"customers_lz\"\n",
    "    },\n",
    "    \"schema\": \"customers\",\n",
    "    \"data_sampling\": false\n",
    "}"
   ]
  },
  {
   "cell_type": "code",
   "execution_count": 0,
   "metadata": {
    "application/vnd.databricks.v1+cell": {
     "cellMetadata": {},
     "inputWidgets": {},
     "nuid": "00bd3470-4aba-4f42-b054-17a8526d59fb",
     "showTitle": false,
     "tableResultSettingsMap": {},
     "title": ""
    }
   },
   "outputs": [],
   "source": [
    "resources:\n",
    "  jobs:\n",
    "    dev_julianadmin_Setup_Usertraining:\n",
    "      name: \"[dev julianadmin] Setup Usertraining\"\n",
    "      tasks:\n",
    "        - task_key: Create_functions\n",
    "          notebook_task:\n",
    "            notebook_path: /Users/julianadmin@5rqnyj.onmicrosoft.com/.bundle/demo/dev/files/src/2.\n",
    "              Admin Features\n",
    "            base_parameters:\n",
    "              schema: admin\n",
    "            source: WORKSPACE\n",
    "        - task_key: Generate_Data\n",
    "          notebook_task:\n",
    "            notebook_path: /Users/julianadmin@5rqnyj.onmicrosoft.com/.bundle/demo/dev/files/src/1.\n",
    "              Labs Data Generator\n",
    "            base_parameters:\n",
    "              schema: customer\n",
    "            source: WORKSPACE\n",
    "      tags:\n",
    "        dev: julianadmin\n",
    "      queue:\n",
    "        enabled: true\n",
    "      parameters:\n",
    "        - name: catalog\n",
    "          default: usertraining\n",
    "      edit_mode: EDITABLE\n",
    "      deployment:\n",
    "        kind: BUNDLE\n",
    "        metadata_file_path: /Users/julianadmin@5rqnyj.onmicrosoft.com/.bundle/demo/dev/state/metadata.json\n"
   ]
  }
 ],
 "metadata": {
  "application/vnd.databricks.v1+notebook": {
   "computePreferences": null,
   "dashboards": [],
   "environmentMetadata": {
    "base_environment": "",
    "environment_version": "2"
   },
   "inputWidgetPreferences": null,
   "language": "sql",
   "notebookMetadata": {
    "pythonIndentUnit": 4
   },
   "notebookName": "pipeline & job",
   "widgets": {}
  },
  "language_info": {
   "name": "sql"
  }
 },
 "nbformat": 4,
 "nbformat_minor": 0
}
