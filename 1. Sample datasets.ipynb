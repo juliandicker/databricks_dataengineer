{
 "cells": [
  {
   "cell_type": "markdown",
   "metadata": {
    "application/vnd.databricks.v1+cell": {
     "cellMetadata": {},
     "inputWidgets": {},
     "nuid": "db421712-84f9-4c4e-ab15-1d0a10c7a2b4",
     "showTitle": false,
     "tableResultSettingsMap": {},
     "title": ""
    }
   },
   "source": [
    "#Sample datasets\n",
    "\n",
    "https://docs.databricks.com/aws/en/discover/databricks-datasets"
   ]
  },
  {
   "cell_type": "markdown",
   "metadata": {
    "application/vnd.databricks.v1+cell": {
     "cellMetadata": {},
     "inputWidgets": {},
     "nuid": "c857ce46-7645-42ff-8dd8-5c4b9957be10",
     "showTitle": false,
     "tableResultSettingsMap": {},
     "title": ""
    }
   },
   "source": [
    "##Unity Catalog datasets"
   ]
  },
  {
   "cell_type": "code",
   "execution_count": 0,
   "metadata": {
    "application/vnd.databricks.v1+cell": {
     "cellMetadata": {
      "byteLimit": 2048000,
      "implicitDf": true,
      "rowLimit": 10000
     },
     "inputWidgets": {},
     "nuid": "b9374472-f11d-4af4-ba54-79c52a8ddada",
     "showTitle": false,
     "tableResultSettingsMap": {},
     "title": ""
    }
   },
   "outputs": [],
   "source": [
    "%sql\n",
    "SELECT * FROM samples.nyctaxi.trips LIMIT 10"
   ]
  },
  {
   "cell_type": "code",
   "execution_count": 0,
   "metadata": {
    "application/vnd.databricks.v1+cell": {
     "cellMetadata": {
      "byteLimit": 2048000,
      "implicitDf": true,
      "rowLimit": 10000
     },
     "inputWidgets": {},
     "nuid": "0703cb6a-52fa-4be0-a9be-762f1711e67c",
     "showTitle": false,
     "tableResultSettingsMap": {},
     "title": ""
    }
   },
   "outputs": [],
   "source": [
    "%sql\n",
    "SHOW TABLES IN samples.tpch"
   ]
  },
  {
   "cell_type": "markdown",
   "metadata": {
    "application/vnd.databricks.v1+cell": {
     "cellMetadata": {},
     "inputWidgets": {},
     "nuid": "2fbc1ab3-e9c3-496d-88d7-02bac720f810",
     "showTitle": false,
     "tableResultSettingsMap": {},
     "title": ""
    }
   },
   "source": [
    "##Databricks datasets (databricks-datasets) mounted to DBFS"
   ]
  },
  {
   "cell_type": "code",
   "execution_count": 0,
   "metadata": {
    "application/vnd.databricks.v1+cell": {
     "cellMetadata": {
      "byteLimit": 2048000,
      "rowLimit": 10000
     },
     "inputWidgets": {},
     "nuid": "dd6f2740-c6ff-4fd1-bd49-d34400f2ff4a",
     "showTitle": false,
     "tableResultSettingsMap": {},
     "title": ""
    }
   },
   "outputs": [],
   "source": [
    "display(dbutils.fs.ls('/databricks-datasets'))"
   ]
  },
  {
   "cell_type": "code",
   "execution_count": 0,
   "metadata": {
    "application/vnd.databricks.v1+cell": {
     "cellMetadata": {
      "byteLimit": 2048000,
      "rowLimit": 10000
     },
     "inputWidgets": {},
     "nuid": "ee5bcf94-8300-4566-a9b8-19608e6b41ba",
     "showTitle": false,
     "tableResultSettingsMap": {},
     "title": ""
    }
   },
   "outputs": [],
   "source": [
    "display(dbutils.fs.ls('dbfs:/databricks-datasets/flights/'))"
   ]
  },
  {
   "cell_type": "code",
   "execution_count": 0,
   "metadata": {
    "application/vnd.databricks.v1+cell": {
     "cellMetadata": {
      "byteLimit": 2048000,
      "rowLimit": 10000
     },
     "inputWidgets": {},
     "nuid": "caf73ddd-37d0-48ee-bd73-3e319028f217",
     "showTitle": false,
     "tableResultSettingsMap": {},
     "title": ""
    }
   },
   "outputs": [],
   "source": [
    "dbutils.fs.head('dbfs:/databricks-datasets/flights/airport-codes-na.txt')"
   ]
  },
  {
   "cell_type": "code",
   "execution_count": 0,
   "metadata": {
    "application/vnd.databricks.v1+cell": {
     "cellMetadata": {
      "byteLimit": 2048000,
      "rowLimit": 10000
     },
     "inputWidgets": {},
     "nuid": "6d45ad74-7ad4-4cfe-ba2e-2c658c682a2d",
     "showTitle": false,
     "tableResultSettingsMap": {},
     "title": ""
    }
   },
   "outputs": [],
   "source": [
    "from pyspark.sql import SparkSession\n",
    "from pyspark.sql.functions import lit\n",
    "import re\n",
    "\n",
    "spark = SparkSession.builder.getOrCreate()\n",
    "\n",
    "# Define formats of interest\n",
    "target_extensions = [\".csv\", \".parquet\", \"_delta_log\"]\n",
    "\n",
    "def find_first_matching_file(folder_path):\n",
    "    stack = [folder_path]\n",
    "    while stack:\n",
    "        current_path = stack.pop()\n",
    "        try:\n",
    "            items = dbutils.fs.ls(current_path)\n",
    "        except:\n",
    "            continue  # skip if permission denied or error\n",
    "\n",
    "        for item in items:\n",
    "            if item.isDir():\n",
    "                # Check for Delta table marker\n",
    "                if item.name == \"_delta_log/\":\n",
    "                    return (\"delta\", current_path)\n",
    "                stack.append(item.path)\n",
    "            else:\n",
    "                if item.path.endswith(\".csv\"):\n",
    "                    return (\"csv\", item.path)\n",
    "                elif item.path.endswith(\".parquet\"):\n",
    "                    return (\"parquet\", item.path)\n",
    "    return (None, None)\n",
    "\n",
    "# Get all top-level folders in /databricks-datasets/\n",
    "top_level = [f for f in dbutils.fs.ls(\"/databricks-datasets/\") if f.isDir()]\n",
    "\n",
    "# Search each folder for a sample file of desired format\n",
    "results = []\n",
    "for entry in top_level:\n",
    "    fmt, sample_path = find_first_matching_file(entry.path)\n",
    "    if fmt:\n",
    "        results.append((entry.name, fmt, sample_path))\n",
    "\n",
    "# Create DataFrame\n",
    "df = spark.createDataFrame(results, [\"dataset\", \"format\", \"sample_path\"])\n",
    "display(df)\n"
   ]
  }
 ],
 "metadata": {
  "application/vnd.databricks.v1+notebook": {
   "computePreferences": null,
   "dashboards": [],
   "environmentMetadata": {
    "base_environment": "",
    "environment_version": "2"
   },
   "inputWidgetPreferences": null,
   "language": "python",
   "notebookMetadata": {
    "mostRecentlyExecutedCommandWithImplicitDF": {
     "commandId": 7644231452784851,
     "dataframes": [
      "_sqldf"
     ]
    },
    "pythonIndentUnit": 4
   },
   "notebookName": "1. Sample datasets",
   "widgets": {}
  },
  "language_info": {
   "name": "python"
  }
 },
 "nbformat": 4,
 "nbformat_minor": 0
}
