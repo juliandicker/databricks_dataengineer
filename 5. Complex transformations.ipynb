{
 "cells": [
  {
   "cell_type": "code",
   "execution_count": 0,
   "metadata": {
    "application/vnd.databricks.v1+cell": {
     "cellMetadata": {
      "byteLimit": 2048000,
      "rowLimit": 10000
     },
     "inputWidgets": {},
     "nuid": "fe1e128c-46e6-4e08-9f38-2c0f70a35dd8",
     "showTitle": false,
     "tableResultSettingsMap": {},
     "title": ""
    }
   },
   "outputs": [],
   "source": [
    "select * from text.`dbfs:/databricks-datasets/iot-stream/data-device/`"
   ]
  },
  {
   "cell_type": "code",
   "execution_count": 0,
   "metadata": {
    "application/vnd.databricks.v1+cell": {
     "cellMetadata": {
      "byteLimit": 2048000,
      "rowLimit": 10000
     },
     "inputWidgets": {},
     "nuid": "53ebb83e-6881-441f-9c66-11c09e20351f",
     "showTitle": false,
     "tableResultSettingsMap": {},
     "title": ""
    }
   },
   "outputs": [],
   "source": [
    "CREATE SCHEMA usertraining.iot;\n",
    "USE usertraining.iot"
   ]
  },
  {
   "cell_type": "code",
   "execution_count": 0,
   "metadata": {
    "application/vnd.databricks.v1+cell": {
     "cellMetadata": {
      "byteLimit": 2048000,
      "rowLimit": 10000
     },
     "inputWidgets": {},
     "nuid": "061d3015-51a7-4db0-9e22-8c53f06298ff",
     "showTitle": false,
     "tableResultSettingsMap": {},
     "title": ""
    }
   },
   "outputs": [],
   "source": [
    "SELECT * FROM json.`dbfs:/databricks-datasets/iot-stream/data-device/`;"
   ]
  },
  {
   "cell_type": "code",
   "execution_count": 0,
   "metadata": {
    "application/vnd.databricks.v1+cell": {
     "cellMetadata": {
      "byteLimit": 2048000,
      "rowLimit": 10000
     },
     "inputWidgets": {},
     "nuid": "d50e01ad-727f-403c-aaf2-68ed6a3e22f8",
     "showTitle": false,
     "tableResultSettingsMap": {},
     "title": ""
    }
   },
   "outputs": [],
   "source": [
    "CREATE OR REPLACE TABLE device_data AS\n",
    "  SELECT * FROM text.`dbfs:/databricks-datasets/iot-stream/data-device/`;\n",
    "\n",
    "SELECT * FROM device_data;"
   ]
  },
  {
   "cell_type": "code",
   "execution_count": 0,
   "metadata": {
    "application/vnd.databricks.v1+cell": {
     "cellMetadata": {},
     "inputWidgets": {},
     "nuid": "b4a654ac-ccd5-456f-93dc-2d8fd5b6e48f",
     "showTitle": false,
     "tableResultSettingsMap": {},
     "title": ""
    }
   },
   "outputs": [],
   "source": [
    "SELECT schema_of_json('{\"id\":\"750013\", \"sub\":{\"user_id\":27}, \"event_name\":\"f inalize\"}') AS schema \n"
   ]
  },
  {
   "cell_type": "code",
   "execution_count": 0,
   "metadata": {
    "application/vnd.databricks.v1+cell": {
     "cellMetadata": {
      "byteLimit": 2048000,
      "rowLimit": 10000
     },
     "inputWidgets": {},
     "nuid": "bf657a12-5f16-489f-94fc-c1775ff60a5e",
     "showTitle": false,
     "tableResultSettingsMap": {},
     "title": ""
    }
   },
   "outputs": [],
   "source": [
    "SELECT schema_of_json('{\"id\":750009,\"user_id\":31,\"device_id\":11,\"num_steps\":8374,\"miles_walked\":4.187,\"calories_burnt\":418.69998,\"timestamp\":\"2018-07-21 08:45:38.740921\",\"value\":{\"user_id\": 31, \"calories_burnt\": 418.6999816894531, \"num_steps\": 8374, \"miles_walked\": 4.186999797821045, \"time_stamp\": \"2018-07-21 08:45:38.740921\", \"device_id\": 11}}') as schema"
   ]
  },
  {
   "cell_type": "code",
   "execution_count": 0,
   "metadata": {
    "application/vnd.databricks.v1+cell": {
     "cellMetadata": {
      "byteLimit": 2048000,
      "rowLimit": 10000
     },
     "inputWidgets": {},
     "nuid": "996aaaf3-e515-4088-b7e0-a0572007533d",
     "showTitle": false,
     "tableResultSettingsMap": {},
     "title": ""
    }
   },
   "outputs": [],
   "source": [
    "CREATE OR REPLACE TEMP VIEW device_data_parsed AS\n",
    "  SELECT from_json(value, 'STRUCT<calories_burnt: DOUBLE, device_id: BIGINT, id: BIGINT, miles_walked: DOUBLE, num_steps: BIGINT, timestamp: STRING, user_id: BIGINT, value: STRUCT<calories_burnt: DOUBLE, device_id: BIGINT, miles_walked: DOUBLE, num_steps: BIGINT, time_stamp: STRING, user_id: BIGINT>>') AS json\n",
    "  FROM device_data;\n",
    "  \n",
    "SELECT * FROM device_data_parsed"
   ]
  }
 ],
 "metadata": {
  "application/vnd.databricks.v1+notebook": {
   "computePreferences": null,
   "dashboards": [],
   "environmentMetadata": {
    "base_environment": "",
    "environment_version": "2"
   },
   "inputWidgetPreferences": null,
   "language": "sql",
   "notebookMetadata": {
    "pythonIndentUnit": 4
   },
   "notebookName": "5. Complex transformations",
   "widgets": {}
  },
  "language_info": {
   "name": "sql"
  }
 },
 "nbformat": 4,
 "nbformat_minor": 0
}
