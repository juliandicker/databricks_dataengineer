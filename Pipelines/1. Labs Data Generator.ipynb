{
 "cells": [
  {
   "cell_type": "markdown",
   "metadata": {
    "application/vnd.databricks.v1+cell": {
     "cellMetadata": {
      "byteLimit": 2048000,
      "rowLimit": 10000
     },
     "inputWidgets": {},
     "nuid": "93314b9f-1d9b-4079-9869-3c8b7c8c48ee",
     "showTitle": false,
     "tableResultSettingsMap": {},
     "title": ""
    }
   },
   "source": [
    "#Labs Data Generator"
   ]
  },
  {
   "cell_type": "code",
   "execution_count": 0,
   "metadata": {
    "application/vnd.databricks.v1+cell": {
     "cellMetadata": {
      "byteLimit": 2048000,
      "rowLimit": 10000
     },
     "inputWidgets": {},
     "nuid": "f5d39d3b-051b-4506-99e0-d5037dbcfbd7",
     "showTitle": false,
     "tableResultSettingsMap": {},
     "title": ""
    }
   },
   "outputs": [],
   "source": [
    "%python\n",
    "dbutils.widgets.text(\"catalog\", \"\")\n",
    "dbutils.widgets.text(\"schema\", \"\")\n",
    "catalog = dbutils.widgets.get(\"catalog\")\n",
    "schema = dbutils.widgets.get(\"schema\")\n",
    "spark.sql(f\"CREATE CATALOG IF NOT EXISTS {catalog}\")\n",
    "spark.sql(f\"CREATE SCHEMA IF NOT EXISTS {catalog}.{schema}\")\n",
    "spark.sql(f\"USE {catalog}.{schema}\")"
   ]
  },
  {
   "cell_type": "code",
   "execution_count": 0,
   "metadata": {
    "application/vnd.databricks.v1+cell": {
     "cellMetadata": {
      "byteLimit": 2048000,
      "rowLimit": 10000
     },
     "inputWidgets": {},
     "nuid": "f568fd66-a9e9-4b0d-9d2f-f233cde8b30f",
     "showTitle": false,
     "tableResultSettingsMap": {},
     "title": ""
    }
   },
   "outputs": [],
   "source": [
    "%pip install dbldatagen"
   ]
  },
  {
   "cell_type": "code",
   "execution_count": 0,
   "metadata": {
    "application/vnd.databricks.v1+cell": {
     "cellMetadata": {
      "byteLimit": 2048000,
      "rowLimit": 10000
     },
     "inputWidgets": {},
     "nuid": "4ff8e2b6-41c2-45ab-88c5-02cf7142fb7f",
     "showTitle": false,
     "tableResultSettingsMap": {},
     "title": ""
    }
   },
   "outputs": [],
   "source": [
    "import dbldatagen as dg\n",
    "import pyspark.sql.functions as F\n",
    "\n",
    "partitions_requested = 32\n",
    "data_rows = 10 * 1000 * 1000\n",
    "\n",
    "uniqueCustomers = 10 * 1000000\n",
    "\n",
    "dataspec = (\n",
    "    dg.DataGenerator(spark, rows=data_rows, partitions=partitions_requested)\n",
    "      .withColumn(\"customer_id\",\"long\", uniqueValues=uniqueCustomers)\n",
    "      .withColumn(\"name\", percentNulls=0.01, template=r'\\\\w \\\\w|\\\\w a. \\\\w')\n",
    "      .withColumn(\"alias\", percentNulls=0.01, template=r'\\\\w \\\\w|\\\\w a. \\\\w')\n",
    "      .withColumn(\"payment_instrument_type\", values=['paypal', 'Visa', 'Mastercard',\n",
    "                  'American Express', 'discover', 'branded visa', 'branded mastercard'],\n",
    "                  random=True, distribution=\"normal\")\n",
    "      .withColumn(\"int_payment_instrument\", \"int\",  minValue=0000, maxValue=9999,\n",
    "                  baseColumn=\"customer_id\", baseColumnType=\"hash\", omit=True)\n",
    "      .withColumn(\"payment_instrument\",\n",
    "                  expr=\"format_number(int_payment_instrument, '**** ****** *####')\",\n",
    "                  baseColumn=\"int_payment_instrument\")\n",
    "      .withColumn(\"email\", template=r'\\\\w.\\\\w@\\\\w.com|\\\\w-\\\\w@\\\\w')\n",
    "      .withColumn(\"email2\", template=r'\\\\w.\\\\w@\\\\w.com')\n",
    "      .withColumn(\"ip_address\", template=r'\\\\n.\\\\n.\\\\n.\\\\n')\n",
    "      .withColumn(\"md5_payment_instrument\",\n",
    "                  expr=\"md5(concat(payment_instrument_type, ':', payment_instrument))\",\n",
    "                  base_column=['payment_instrument_type', 'payment_instrument'])\n",
    "      .withColumn(\"customer_notes\", text=dg.ILText(words=(1,8)))\n",
    "      .withColumn(\"created_ts\", \"timestamp\", expr=\"now()\")\n",
    "      .withColumn(\"modified_ts\", \"timestamp\", expr=\"now()\")\n",
    "      .withColumn(\"memo\", expr=\"'original data'\")\n",
    "      )\n",
    "df1 = dataspec.build()"
   ]
  },
  {
   "cell_type": "code",
   "execution_count": 0,
   "metadata": {
    "application/vnd.databricks.v1+cell": {
     "cellMetadata": {
      "byteLimit": 2048000,
      "rowLimit": 10000
     },
     "inputWidgets": {},
     "nuid": "e10b5c46-95c8-4e97-af40-82ef2c2c815a",
     "showTitle": false,
     "tableResultSettingsMap": {},
     "title": ""
    }
   },
   "outputs": [],
   "source": [
    "spark.sql(f\"CREATE VOLUME IF NOT EXISTS {catalog}.{schema}.customers_lz\")\n",
    "df1.write.mode(\"overwrite\").json(f\"/Volumes/{catalog}/{schema}/customers_lz\")"
   ]
  }
 ],
 "metadata": {
  "application/vnd.databricks.v1+notebook": {
   "computePreferences": null,
   "dashboards": [],
   "environmentMetadata": {
    "base_environment": "",
    "environment_version": "2"
   },
   "inputWidgetPreferences": null,
   "language": "python",
   "notebookMetadata": {
    "mostRecentlyExecutedCommandWithImplicitDF": {
     "commandId": 5331082320181979,
     "dataframes": [
      "_sqldf"
     ]
    },
    "pythonIndentUnit": 4
   },
   "notebookName": "1. Labs Data Generator",
   "widgets": {
    "catalog": {
     "currentValue": "usertraining",
     "nuid": "5ef2f3af-98d3-4c1e-8e86-bf886079b1a6",
     "typedWidgetInfo": {
      "autoCreated": false,
      "defaultValue": "",
      "label": null,
      "name": "catalog",
      "options": {
       "widgetDisplayType": "Text",
       "validationRegex": null
      },
      "parameterDataType": "String"
     },
     "widgetInfo": {
      "widgetType": "text",
      "defaultValue": "",
      "label": null,
      "name": "catalog",
      "options": {
       "widgetType": "text",
       "autoCreated": null,
       "validationRegex": null
      }
     }
    },
    "schema": {
     "currentValue": "customers",
     "nuid": "c388b476-54c6-43f7-b529-eb71ab85317b",
     "typedWidgetInfo": {
      "autoCreated": false,
      "defaultValue": "",
      "label": null,
      "name": "schema",
      "options": {
       "widgetDisplayType": "Text",
       "validationRegex": null
      },
      "parameterDataType": "String"
     },
     "widgetInfo": {
      "widgetType": "text",
      "defaultValue": "",
      "label": null,
      "name": "schema",
      "options": {
       "widgetType": "text",
       "autoCreated": null,
       "validationRegex": null
      }
     }
    }
   }
  },
  "language_info": {
   "name": "python"
  }
 },
 "nbformat": 4,
 "nbformat_minor": 0
}
