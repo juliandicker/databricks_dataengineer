{
 "cells": [
  {
   "cell_type": "code",
   "execution_count": 0,
   "metadata": {
    "application/vnd.databricks.v1+cell": {
     "cellMetadata": {
      "byteLimit": 2048000,
      "rowLimit": 10000
     },
     "inputWidgets": {},
     "nuid": "1a1ab5c6-6271-40d7-ac12-5831cc62a33e",
     "showTitle": false,
     "tableResultSettingsMap": {},
     "title": ""
    }
   },
   "outputs": [],
   "source": [
    "CREATE OR REPLACE LIVE Table customers_by_payment_instrument_gold\n",
    "COMMENT \"Customers by payment instrument\"\n",
    "TBLPROPERTIES(\"quality\" = \"gold\")\n",
    "AS\n",
    "  SELECT payment_instrument_type, count(*) AS customer_count\n",
    "  FROM LIVE.valid_customers_silver\n",
    "  GROUP BY payment_instrument_type"
   ]
  }
 ],
 "metadata": {
  "application/vnd.databricks.v1+notebook": {
   "computePreferences": null,
   "dashboards": [],
   "environmentMetadata": {
    "base_environment": "",
    "environment_version": "2"
   },
   "inputWidgetPreferences": null,
   "language": "sql",
   "notebookMetadata": {
    "pythonIndentUnit": 4
   },
   "notebookName": "4. customers_gold",
   "widgets": {}
  },
  "language_info": {
   "name": "sql"
  }
 },
 "nbformat": 4,
 "nbformat_minor": 0
}
