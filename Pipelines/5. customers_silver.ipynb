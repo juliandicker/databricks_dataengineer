{
 "cells": [
  {
   "cell_type": "code",
   "execution_count": 0,
   "metadata": {
    "application/vnd.databricks.v1+cell": {
     "cellMetadata": {
      "byteLimit": 2048000,
      "rowLimit": 10000
     },
     "inputWidgets": {},
     "nuid": "ab42ed7c-1d73-4f86-8103-3c8ad3286682",
     "showTitle": false,
     "tableResultSettingsMap": {},
     "title": ""
    }
   },
   "outputs": [],
   "source": [
    "CREATE OR REPLACE STREAMING TABLE customers_silver (\n",
    "  alias STRING,\n",
    "  customer_id BIGINT,\n",
    "  customer_notes STRING,\n",
    "  email STRING MASK ${default_catalog}.${admin_schema}.email_mask,\n",
    "  email2 STRING MASK ${default_catalog}.${admin_schema}.email_mask,\n",
    "  ip_address STRING MASK ${default_catalog}.${admin_schema}.ip_mask,\n",
    "  md5_payment_instrument STRING,\n",
    "  memo STRING,\n",
    "  created_ts TIMESTAMP,\n",
    "  modified_ts TIMESTAMP,\n",
    "  name STRING,\n",
    "  payment_instrument STRING,\n",
    "  payment_instrument_type STRING,\n",
    "  CONSTRAINT valid_email EXPECT (email LIKE '%@%.%'),\n",
    "  CONSTRAINT valid_email2 EXPECT (email2 LIKE '%@%.%'),\n",
    "  CONSTRAINT alias_not_null EXPECT (alias IS NOT NULL),\n",
    "  CONSTRAINT name_not_null EXPECT (name IS NOT NULL)\n",
    ")\n",
    "COMMENT \"Cleanesed customers from customers_bronze.\"\n",
    "TBLPROPERTIES(\"quality\" = \"bronze\")\n",
    "-- WITH ROW FILTER usertraining.shared.payment_instrument_type_filter ON(payment_instrument_type)\n",
    "AS\n",
    "  SELECT\n",
    "    alias,\n",
    "    created_ts,\n",
    "    customer_id,\n",
    "    customer_notes,\n",
    "    email,\n",
    "    email2,\n",
    "    ip_address,\n",
    "    md5_payment_instrument,\n",
    "    memo,\n",
    "    modified_ts,\n",
    "    name,\n",
    "    payment_instrument,\n",
    "    payment_instrument_type\n",
    "  FROM stream(LIVE.customers_bronze);"
   ]
  },
  {
   "cell_type": "code",
   "execution_count": 0,
   "metadata": {
    "application/vnd.databricks.v1+cell": {
     "cellMetadata": {},
     "inputWidgets": {},
     "nuid": "bb0175b6-6969-42fb-b0bd-e00ce6abb84a",
     "showTitle": false,
     "tableResultSettingsMap": {},
     "title": ""
    }
   },
   "outputs": [],
   "source": [
    "CREATE OR REFRESH TEMPORARY STREAMING TABLE customers_silver_quarantine(\n",
    "  CONSTRAINT quarantined_row EXPECT (alias IS NOT NULL OR name IS NOT NULL OR email LIKE '%@%.%' OR email2 LIKE '%@%.%')\n",
    ")\n",
    "PARTITIONED BY (is_quarantined)\n",
    "AS\n",
    "  SELECT\n",
    "    *,\n",
    "    NOT ((alias IS NOT NULL) and (name IS NOT NULL) and (email LIKE '%@%.%') and (email2 LIKE '%@%.%')) as is_quarantined\n",
    "  FROM STREAM(customers_silver);\n",
    "\n",
    "CREATE TEMPORARY LIVE VIEW valid_customers_silver AS\n",
    "SELECT * FROM customers_silver_quarantine WHERE is_quarantined=FALSE;\n",
    "\n",
    "CREATE TEMPORARY LIVE VIEW invalid_customers_silver AS\n",
    "SELECT * FROM customers_silver_quarantine WHERE is_quarantined=TRUE;"
   ]
  }
 ],
 "metadata": {
  "application/vnd.databricks.v1+notebook": {
   "computePreferences": null,
   "dashboards": [],
   "environmentMetadata": {
    "base_environment": "",
    "environment_version": "2"
   },
   "inputWidgetPreferences": null,
   "language": "sql",
   "notebookMetadata": {
    "pythonIndentUnit": 4
   },
   "notebookName": "5. customers_silver",
   "widgets": {}
  },
  "language_info": {
   "name": "sql"
  }
 },
 "nbformat": 4,
 "nbformat_minor": 0
}
