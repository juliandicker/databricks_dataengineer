{
 "cells": [
  {
   "cell_type": "code",
   "execution_count": 0,
   "metadata": {
    "application/vnd.databricks.v1+cell": {
     "cellMetadata": {
      "byteLimit": 2048000,
      "rowLimit": 10000
     },
     "inputWidgets": {},
     "nuid": "bef5c8c8-a0d3-4ac4-88f2-cf3a419bbb7d",
     "showTitle": false,
     "tableResultSettingsMap": {},
     "title": ""
    }
   },
   "outputs": [],
   "source": [
    "%python\n",
    "dbutils.widgets.text(\"catalog\", \"\")\n",
    "dbutils.widgets.text(\"schema\", \"\")\n",
    "catalog = dbutils.widgets.get(\"catalog\")\n",
    "schema = dbutils.widgets.get(\"schema\")\n",
    "spark.sql(f\"CREATE CATALOG IF NOT EXISTS {catalog}\")\n",
    "spark.sql(f\"CREATE SCHEMA IF NOT EXISTS {catalog}.{schema}\")\n",
    "spark.sql(f\"USE {catalog}.{schema}\")"
   ]
  },
  {
   "cell_type": "code",
   "execution_count": 0,
   "metadata": {
    "application/vnd.databricks.v1+cell": {
     "cellMetadata": {
      "byteLimit": 2048000,
      "rowLimit": 10000
     },
     "inputWidgets": {},
     "nuid": "d071d8ee-afa8-4646-9797-2e30652b2095",
     "showTitle": false,
     "tableResultSettingsMap": {},
     "title": ""
    }
   },
   "outputs": [],
   "source": [
    "CREATE OR REPLACE TABLE payment_team_users AS\n",
    "SELECT * FROM (\n",
    "  VALUES\n",
    "    ('alexw@5rqnyj.onmicrosoft.com', ARRAY('American Express', 'Mastercard', 'discover', 'branded visa')),\n",
    "    ('julianadmin@5rqnyj.onmicrosoft.com', ARRAY('Mastercard'))\n",
    ") AS t(username, payment_instrument_types);"
   ]
  },
  {
   "cell_type": "code",
   "execution_count": 0,
   "metadata": {
    "application/vnd.databricks.v1+cell": {
     "cellMetadata": {
      "byteLimit": 2048000,
      "rowLimit": 10000
     },
     "inputWidgets": {},
     "nuid": "7213625e-5c2b-438e-87d8-b7179890ee34",
     "showTitle": false,
     "tableResultSettingsMap": {},
     "title": ""
    }
   },
   "outputs": [],
   "source": [
    "CREATE OR REPLACE FUNCTION ip_mask(v STRING)\n",
    "  RETURNS STRING\n",
    "  RETURN CASE WHEN is_account_group_member('dp-dataplatformadmin') THEN v ELSE regexp_replace(v, r'\\d', '*') END;\n",
    "\n",
    "CREATE OR REPLACE FUNCTION email_mask(v STRING)\n",
    "  RETURNS STRING\n",
    "  RETURN CASE WHEN is_account_group_member('dp-dataplatformadmin') THEN v ELSE  regexp_replace(v, '(?<=.{2}).(?=.*@)', '*') END;\n",
    "\n",
    "CREATE OR REPLACE FUNCTION payment_instrument_type_filter(payment_instrument_type STRING)\n",
    "  RETURN payment_instrument_type IN (SELECT explode(payment_instrument_types) FROM payment_team_users WHERE username = CURRENT_USER());"
   ]
  }
 ],
 "metadata": {
  "application/vnd.databricks.v1+notebook": {
   "computePreferences": null,
   "dashboards": [],
   "environmentMetadata": {
    "base_environment": "",
    "environment_version": "2"
   },
   "inputWidgetPreferences": null,
   "language": "sql",
   "notebookMetadata": {
    "pythonIndentUnit": 4
   },
   "notebookName": "2. Admin Features",
   "widgets": {
    "catalog": {
     "currentValue": "usertraining",
     "nuid": "defe027e-4ca7-4432-8c14-7de04051a93f",
     "typedWidgetInfo": {
      "autoCreated": false,
      "defaultValue": "",
      "label": null,
      "name": "catalog",
      "options": {
       "widgetDisplayType": "Text",
       "validationRegex": null
      },
      "parameterDataType": "String"
     },
     "widgetInfo": {
      "widgetType": "text",
      "defaultValue": "",
      "label": null,
      "name": "catalog",
      "options": {
       "widgetType": "text",
       "autoCreated": null,
       "validationRegex": null
      }
     }
    },
    "schema": {
     "currentValue": "admin",
     "nuid": "c1cdf99e-7af0-4950-87ae-3b3a9e031d95",
     "typedWidgetInfo": {
      "autoCreated": false,
      "defaultValue": "",
      "label": null,
      "name": "schema",
      "options": {
       "widgetDisplayType": "Text",
       "validationRegex": null
      },
      "parameterDataType": "String"
     },
     "widgetInfo": {
      "widgetType": "text",
      "defaultValue": "",
      "label": null,
      "name": "schema",
      "options": {
       "widgetType": "text",
       "autoCreated": null,
       "validationRegex": null
      }
     }
    }
   }
  },
  "language_info": {
   "name": "sql"
  }
 },
 "nbformat": 4,
 "nbformat_minor": 0
}
