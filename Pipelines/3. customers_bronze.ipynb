{
 "cells": [
  {
   "cell_type": "code",
   "execution_count": 0,
   "metadata": {
    "application/vnd.databricks.v1+cell": {
     "cellMetadata": {
      "byteLimit": 2048000,
      "rowLimit": 10000
     },
     "inputWidgets": {},
     "nuid": "2a8df8fc-37ff-46ca-80ce-e3d68c1e913a",
     "showTitle": false,
     "tableResultSettingsMap": {},
     "title": ""
    }
   },
   "outputs": [],
   "source": [
    "CREATE OR REFRESH STREAMING TABLE customers_bronze\n",
    "COMMENT \"The raw customers ingested from customers_lz.\"\n",
    "TBLPROPERTIES(\"quality\" = \"bronze\")\n",
    "AS SELECT *,\n",
    "  current_timestamp() AS processing_time,\n",
    "  _metadata.file_path AS source_file\n",
    "FROM STREAM read_files(\n",
    "  \"/Volumes/${default_catalog}/${default_schema}/${landingzone}\",\n",
    "  format => \"json\",\n",
    "  inferSchema => true,\n",
    "  inferTimestamp => true);"
   ]
  }
 ],
 "metadata": {
  "application/vnd.databricks.v1+notebook": {
   "computePreferences": null,
   "dashboards": [],
   "environmentMetadata": {
    "base_environment": "",
    "environment_version": "2"
   },
   "inputWidgetPreferences": null,
   "language": "sql",
   "notebookMetadata": {
    "pythonIndentUnit": 4
   },
   "notebookName": "3. customers_bronze",
   "widgets": {}
  },
  "language_info": {
   "name": "sql"
  }
 },
 "nbformat": 4,
 "nbformat_minor": 0
}
